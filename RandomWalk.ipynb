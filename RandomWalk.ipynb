{
 "cells": [
  {
   "cell_type": "markdown",
   "metadata": {},
   "source": [
    "# Random Walk\n",
    "\n",
    "This code will simulate the *simple random walk*, which is one of the most important discrete-time stochastic process. Random walks are commonly used to model phenomena in physics,  chemistry, biology, and finance. In the simple random walk, at each timestep we flip a fair coin. If it lands on heads, we move foward one step and if it lands on tails, we move backwards instead. We will let \"forwards\" be represented by positive integers, and \"backwards\" be represented by negative integers."
   ]
  },
  {
   "cell_type": "code",
   "execution_count": 1,
   "metadata": {},
   "outputs": [
    {
     "name": "stdout",
     "output_type": "stream",
     "text": [
      "Upper bound at 10 reached\n"
     ]
    }
   ],
   "source": [
    "import random             #imports random module\n",
    "\n",
    "upper_bound = 10          #sets upper bound to 10\n",
    "lower_bound = -10         #sets lower bound to -10\n",
    "pos=0                     #sets the initial position to be at 0\n",
    "x_results=[]              #creates empty list to store results of coin flips\n",
    "positions=[]              #creates empty list to store position of the walk at each time step\n",
    "\n",
    "#while loop to run simple random walk\n",
    "while pos != lower_bound or pos != upper_bound:\n",
    "    \n",
    "    x = random.choice([-1,1])       #x will either be -1 or 1 by random choice\n",
    "    x_results.append(x)             #the result of the \"coin flip\" will be stored in the list x_results\n",
    "    \n",
    "    #if statement to determine what to do depending on the \"coin flip\"\n",
    "    if x == 1:                  #if x is 1\n",
    "        pos+=1                  #we will move forward one step (add 1)\n",
    "        positions.append(pos)   #append the current position to the list of positions\n",
    "    elif x == -1:               #if x is -1\n",
    "        pos-=1                  #we will move backward one step (subtract 1)\n",
    "        positions.append(pos)   #append the current position to the list of positions\n",
    "        \n",
    "    #if statement to display message and terminate the walk when upper or lower bound is reached\n",
    "    if pos == lower_bound:                                       #if lower bound is reached\n",
    "        print(\"Lower bound at \"+ str(lower_bound) + \" reached\")  #will print message that lower bound is reached\n",
    "        break                                                    #exit the while loop\n",
    "    elif pos == upper_bound:                                     #if upper bound is reached\n",
    "        print(\"Upper bound at \"+ str(upper_bound) + \" reached\")  #will print essage that upper bound is reached\n",
    "        break                                                    #exit the while loop\n"
   ]
  },
  {
   "cell_type": "code",
   "execution_count": 2,
   "metadata": {
    "scrolled": true
   },
   "outputs": [
    {
     "data": {
      "text/plain": [
       "[1,\n",
       " 2,\n",
       " 3,\n",
       " 2,\n",
       " 3,\n",
       " 2,\n",
       " 1,\n",
       " 2,\n",
       " 3,\n",
       " 4,\n",
       " 5,\n",
       " 4,\n",
       " 3,\n",
       " 4,\n",
       " 5,\n",
       " 6,\n",
       " 5,\n",
       " 4,\n",
       " 5,\n",
       " 4,\n",
       " 5,\n",
       " 4,\n",
       " 5,\n",
       " 4,\n",
       " 5,\n",
       " 4,\n",
       " 3,\n",
       " 2,\n",
       " 3,\n",
       " 4,\n",
       " 5,\n",
       " 4,\n",
       " 3,\n",
       " 4,\n",
       " 3,\n",
       " 2,\n",
       " 3,\n",
       " 4,\n",
       " 5,\n",
       " 6,\n",
       " 7,\n",
       " 6,\n",
       " 7,\n",
       " 8,\n",
       " 7,\n",
       " 6,\n",
       " 5,\n",
       " 4,\n",
       " 5,\n",
       " 4,\n",
       " 5,\n",
       " 4,\n",
       " 3,\n",
       " 2,\n",
       " 3,\n",
       " 4,\n",
       " 3,\n",
       " 4,\n",
       " 5,\n",
       " 6,\n",
       " 5,\n",
       " 4,\n",
       " 3,\n",
       " 4,\n",
       " 5,\n",
       " 4,\n",
       " 5,\n",
       " 4,\n",
       " 5,\n",
       " 6,\n",
       " 7,\n",
       " 6,\n",
       " 7,\n",
       " 8,\n",
       " 7,\n",
       " 8,\n",
       " 7,\n",
       " 6,\n",
       " 7,\n",
       " 8,\n",
       " 7,\n",
       " 8,\n",
       " 9,\n",
       " 8,\n",
       " 9,\n",
       " 10]"
      ]
     },
     "execution_count": 2,
     "metadata": {},
     "output_type": "execute_result"
    }
   ],
   "source": [
    "# run this to check that positions list looks ok\n",
    "positions"
   ]
  },
  {
   "cell_type": "code",
   "execution_count": 3,
   "metadata": {},
   "outputs": [
    {
     "data": {
      "text/plain": [
       "[<matplotlib.lines.Line2D at 0x7fdd41007730>]"
      ]
     },
     "execution_count": 3,
     "metadata": {},
     "output_type": "execute_result"
    },
    {
     "data": {
      "image/png": "[encoded data removed]",
      "text/plain": [
       "<Figure size 432x288 with 1 Axes>"
      ]
     },
     "metadata": {
      "needs_background": "light"
     },
     "output_type": "display_data"
    }
   ],
   "source": [
    "#produce plot to visualize random walk\n",
    "from matplotlib import pyplot as plt\n",
    "plt.plot(positions)"
   ]
  },
  {
   "cell_type": "markdown",
   "metadata": {},
   "source": [
    "Let's turn this into a function."
   ]
  },
  {
   "cell_type": "code",
   "execution_count": 4,
   "metadata": {},
   "outputs": [],
   "source": [
    "import random         #import random module\n",
    "\n",
    "def rw(n):\n",
    "    '''\n",
    "    Function to run the random walk simulation.\n",
    "    Parameter n: the length of the walk\n",
    "    Return positions: a list of the positions of the random walker\n",
    "    '''\n",
    "    positions=[]     #initialize empty list\n",
    "    pos=0            #initialize position at 0\n",
    "    \n",
    "    #while loop to run the random walk\n",
    "    while True:\n",
    "        x=random.choice([-1,1])     #make a random choice between 1 or -1\n",
    "        \n",
    "        #if statement to determine what to do depending on the random choice\n",
    "        if x==1:     #if x is 1\n",
    "            pos+=1   #move forward one step by adding 1\n",
    "            positions.append(pos)  #append the position to the list\n",
    "        elif x==-1:  #if x is -1\n",
    "            pos-=1   #move backward one step by subtracting 1\n",
    "            positions.append(pos)  #append the position to the list\n",
    "        \n",
    "        #if statement to terminate walk when length of walk is reached\n",
    "        if len(positions) == n:\n",
    "            break\n",
    "            \n",
    "    return positions   #returns list of positions"
   ]
  },
  {
   "cell_type": "code",
   "execution_count": 5,
   "metadata": {},
   "outputs": [
    {
     "data": {
      "text/plain": [
       "[-1, 0, 1, 2, 1, 0, 1, 2, 1, 2]"
      ]
     },
     "execution_count": 5,
     "metadata": {},
     "output_type": "execute_result"
    }
   ],
   "source": [
    "test1=rw(10)    #tests out rw with n=10\n",
    "test1"
   ]
  },
  {
   "cell_type": "code",
   "execution_count": 6,
   "metadata": {},
   "outputs": [
    {
     "data": {
      "text/plain": [
       "[<matplotlib.lines.Line2D at 0x7fdd410fff40>]"
      ]
     },
     "execution_count": 6,
     "metadata": {},
     "output_type": "execute_result"
    },
    {
     "data": {
      "image/png": "[encoded data removed]",
      "text/plain": [
       "<Figure size 432x288 with 1 Axes>"
      ]
     },
     "metadata": {
      "needs_background": "light"
     },
     "output_type": "display_data"
    }
   ],
   "source": [
    "plt.plot(test1)"
   ]
  },
  {
   "cell_type": "markdown",
   "metadata": {},
   "source": [
    "## Simplified Random Walk"
   ]
  },
  {
   "cell_type": "code",
   "execution_count": 7,
   "metadata": {},
   "outputs": [],
   "source": [
    "import numpy as np\n",
    "\n",
    "def rw2(n):\n",
    "    '''\n",
    "    Function to run the random walk simulation (with numpy arrays).\n",
    "    Parameter n: the length of the walk\n",
    "    Return positions: a list of the positions of the random walker\n",
    "    '''\n",
    "    x=np.random.choice(a=[-1,1],size=(n,1))   #makes a random choice between -1 or 1 \n",
    "    positions=np.concatenate([np.zeros((1,1)),x]).cumsum(0)  #adds to position and concatenates to list\n",
    "    \n",
    "    return positions   #returns list of positions"
   ]
  },
  {
   "cell_type": "code",
   "execution_count": 8,
   "metadata": {},
   "outputs": [
    {
     "data": {
      "text/plain": [
       "array([[ 0.],\n",
       "       [ 1.],\n",
       "       [ 2.],\n",
       "       [ 3.],\n",
       "       [ 4.],\n",
       "       [ 3.],\n",
       "       [ 2.],\n",
       "       [ 1.],\n",
       "       [ 0.],\n",
       "       [-1.],\n",
       "       [ 0.]])"
      ]
     },
     "execution_count": 8,
     "metadata": {},
     "output_type": "execute_result"
    }
   ],
   "source": [
    "test2=rw2(10)     #tests out rw2 with n=10\n",
    "test2"
   ]
  },
  {
   "cell_type": "code",
   "execution_count": 9,
   "metadata": {},
   "outputs": [
    {
     "data": {
      "text/plain": [
       "[<matplotlib.lines.Line2D at 0x7fdd41216cd0>]"
      ]
     },
     "execution_count": 9,
     "metadata": {},
     "output_type": "execute_result"
    },
    {
     "data": {
      "image/png": "[encoded data removed]",
      "text/plain": [
       "<Figure size 432x288 with 1 Axes>"
      ]
     },
     "metadata": {
      "needs_background": "light"
     },
     "output_type": "display_data"
    }
   ],
   "source": [
    "plt.plot(test2)"
   ]
  },
  {
   "cell_type": "markdown",
   "metadata": {},
   "source": [
    "Let's test which function performs faster. "
   ]
  },
  {
   "cell_type": "code",
   "execution_count": 10,
   "metadata": {},
   "outputs": [
    {
     "name": "stdout",
     "output_type": "stream",
     "text": [
      "6.3 ms ± 149 µs per loop (mean ± std. dev. of 7 runs, 100 loops each)\n",
      "105 µs ± 1.1 µs per loop (mean ± std. dev. of 7 runs, 10000 loops each)\n"
     ]
    }
   ],
   "source": [
    "%timeit rw(10000)      #find time of rw with n=10000\n",
    "%timeit rw2(10000)     #find time of rw2 with n=10000"
   ]
  },
  {
   "cell_type": "markdown",
   "metadata": {},
   "source": [
    "The rw2 function performs significantly faster than the rw function. However, the rw function is easier to read and write. The rw function shows how the random walk is executed (shown from the while loop). With the rw2 function, it is much more condensed (3 lines). It takes more time to process what the lines are calculating."
   ]
  },
  {
   "cell_type": "code",
   "execution_count": null,
   "metadata": {},
   "outputs": [],
   "source": []
  }
 ],
 "metadata": {
  "kernelspec": {
   "display_name": "Python 3",
   "language": "python",
   "name": "python3"
  },
  "language_info": {
   "codemirror_mode": {
    "name": "ipython",
    "version": 3
   },
   "file_extension": ".py",
   "mimetype": "text/x-python",
   "name": "python",
   "nbconvert_exporter": "python",
   "pygments_lexer": "ipython3",
   "version": "3.8.8"
  }
 },
 "nbformat": 4,
 "nbformat_minor": 4
}
